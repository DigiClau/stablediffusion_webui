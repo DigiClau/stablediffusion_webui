{
  "nbformat": 4,
  "nbformat_minor": 0,
  "metadata": {
    "colab": {
      "provenance": [],
      "machine_shape": "hm",
      "gpuType": "A100",
      "authorship_tag": "ABX9TyPZAm5c4m8+THPoGw2IPh3a",
      "include_colab_link": true
    },
    "kernelspec": {
      "name": "python3",
      "display_name": "Python 3"
    },
    "language_info": {
      "name": "python"
    },
    "accelerator": "GPU"
  },
  "cells": [
    {
      "cell_type": "markdown",
      "metadata": {
        "id": "view-in-github",
        "colab_type": "text"
      },
      "source": [
        "<a href=\"https://colab.research.google.com/github/DigiClau/stablediffusion_webui/blob/main/StableVideoDiffusion.ipynb\" target=\"_parent\"><img src=\"https://colab.research.google.com/assets/colab-badge.svg\" alt=\"Open In Colab\"/></a>"
      ]
    },
    {
      "cell_type": "code",
      "execution_count": null,
      "metadata": {
        "id": "cOGI-r_Fiwya"
      },
      "outputs": [],
      "source": [
        "#@markdown ### from https://huggingface.co/stabilityai/stable-video-diffusion-img2vid-xt/discussions/16\n",
        "#@markdown ### A100 being used...\n",
        "\n",
        "# Download the Repository and install the requirements ~ 3-5 minutes\n",
        "! git clone https://github.com/Stability-AI/generative-models.git\n",
        "! cd generative-models\n",
        "! pip install -r generative-models/requirements/pt2.txt\n",
        "\n",
        "# Download the models to the checkpoints folder in generative-models (~3-5 min)\n",
        "# We dump output to a .txt file so we can continue setting things up while these download.\n",
        "! mkdir generative-models/checkpoints\n",
        "! wget -O generative-models/checkpoints/svd_xt.safetensors 'https://huggingface.co/stabilityai/stable-video-diffusion-img2vid-xt/resolve/main/svd_xt.safetensors?download=true' &>/content/logs.txt &\n",
        "! wget -O generative-models/checkpoints/svd_xt_image_decoder.safetensors 'https://huggingface.co/stabilityai/stable-video-diffusion-img2vid-xt/resolve/main/svd_xt_image_decoder.safetensors?download=true' &>/content/logs.txt &\n",
        "\n",
        "# Setup a cloudflar tunnel\n",
        "!wget https://github.com/cloudflare/cloudflared/releases/latest/download/cloudflared-linux-amd64\n",
        "!chmod +x cloudflared-linux-amd64\n",
        "!nohup /content/cloudflared-linux-amd64 tunnel --url http://localhost:8501 &\n",
        "\n",
        "# Get the tunnel address.  Copy the link that you generate here to your browser\n",
        "# You'll get an error when first going there but once you run the next line it should\n",
        "# start showing the streamlit application.\n",
        "!grep -o 'https://.*\\.trycloudflare.com' nohup.out | head -n 1 | xargs -I {} echo \"Your tunnel url {}\"\n",
        "\n",
        "# Run the streamlit app from inside the generative-models folder\n",
        "! cd generative-models && streamlit run scripts/demo/video_sampling.py &>/content/logs.txt &\n",
        "\n",
        "# Check the logs from running streamlit\n",
        "!cat /content/logs.txt"
      ]
    }
  ]
}