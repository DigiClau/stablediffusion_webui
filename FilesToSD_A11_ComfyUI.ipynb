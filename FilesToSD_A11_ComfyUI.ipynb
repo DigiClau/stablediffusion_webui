{
  "nbformat": 4,
  "nbformat_minor": 0,
  "metadata": {
    "colab": {
      "provenance": [],
      "authorship_tag": "ABX9TyOHZvFOJWOubqs0+hmXXYDn",
      "include_colab_link": true
    },
    "kernelspec": {
      "name": "python3",
      "display_name": "Python 3"
    },
    "language_info": {
      "name": "python"
    }
  },
  "cells": [
    {
      "cell_type": "markdown",
      "metadata": {
        "id": "view-in-github",
        "colab_type": "text"
      },
      "source": [
        "<a href=\"https://colab.research.google.com/github/DigiClau/stablediffusion_webui/blob/main/FilesToSD_A11_ComfyUI.ipynb\" target=\"_parent\"><img src=\"https://colab.research.google.com/assets/colab-badge.svg\" alt=\"Open In Colab\"/></a>"
      ]
    },
    {
      "cell_type": "code",
      "execution_count": null,
      "metadata": {
        "id": "fobwQlzUzhAB"
      },
      "outputs": [],
      "source": [
        "Model_URL = '' #@param {type: \"string\"}\n",
        "\n",
        "def downloadModel(url):\n",
        "  if 'huggingface.co' in url:\n",
        "    filename = url.split('/')[-1]\n",
        "    !aria2c --console-log-level=error -c -x 16 -s 16 -k 1M {url}  -o {filename}\n",
        "  elif 'civitai.com' in url:\n",
        "    !aria2c --console-log-level=error -c -x 16 -s 16 -k 1M {url}\n",
        "  else:\n",
        "    print_message('잘못된 모델 URL입니다.')\n",
        "\n",
        "f Model_URL:\n",
        "    for m in Model_URL.split(','):\n",
        "      %cd {root}/stable-diffusion-webui/models/Stable-diffusion\n",
        "      downloadModel(m)"
      ]
    }
  ]
}