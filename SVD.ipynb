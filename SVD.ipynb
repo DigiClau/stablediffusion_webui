{
  "nbformat": 4,
  "nbformat_minor": 0,
  "metadata": {
    "colab": {
      "provenance": [],
      "machine_shape": "hm",
      "gpuType": "T4",
      "authorship_tag": "ABX9TyPcBZM2nixzEInUC58SBxda",
      "include_colab_link": true
    },
    "kernelspec": {
      "name": "python3",
      "display_name": "Python 3"
    },
    "language_info": {
      "name": "python"
    },
    "accelerator": "GPU"
  },
  "cells": [
    {
      "cell_type": "markdown",
      "metadata": {
        "id": "view-in-github",
        "colab_type": "text"
      },
      "source": [
        "<a href=\"https://colab.research.google.com/github/DigiClau/stablediffusion_webui/blob/main/SVD.ipynb\" target=\"_parent\"><img src=\"https://colab.research.google.com/assets/colab-badge.svg\" alt=\"Open In Colab\"/></a>"
      ]
    },
    {
      "cell_type": "code",
      "execution_count": null,
      "metadata": {
        "id": "QOUmCRbY59HC"
      },
      "outputs": [],
      "source": [
        "root = '/content/'\n",
        "%cd {root}\n",
        "!git clone https://github.com/Stability-AI/generative-models.git\n",
        "%cd 'generative-models'\n",
        "\n",
        "# install required packages from pypi\n",
        "!apt install python3.10-venv\n",
        "!python3 -m venv .pt2\n",
        "!source .pt2/bin/activate\n",
        "\n",
        "!pip install uvicorn\n",
        "!pip install python-multipart\n",
        "!pip install kaleido\n",
        "!pip install fastapi"
      ]
    },
    {
      "cell_type": "code",
      "source": [
        "!pip install uvicorn\n",
        "!pip install python-multipart\n",
        "!pip install kaleido\n",
        "!pip install fastapi"
      ],
      "metadata": {
        "id": "kU_QfKEbH73i"
      },
      "execution_count": null,
      "outputs": []
    },
    {
      "cell_type": "code",
      "source": [
        "!pip3 install -r requirements/pt2.txt"
      ],
      "metadata": {
        "id": "K4pg79j9ISc4"
      },
      "execution_count": null,
      "outputs": []
    },
    {
      "cell_type": "code",
      "source": [],
      "metadata": {
        "id": "OB_3LYabIh53"
      },
      "execution_count": null,
      "outputs": []
    },
    {
      "cell_type": "code",
      "source": [
        "!python --version"
      ],
      "metadata": {
        "id": "tpuOJ-WqCYdC"
      },
      "execution_count": null,
      "outputs": []
    },
    {
      "cell_type": "code",
      "source": [
        "!python main.py"
      ],
      "metadata": {
        "id": "UrGDsAblF7VP"
      },
      "execution_count": null,
      "outputs": []
    }
  ]
}