{
  "nbformat": 4,
  "nbformat_minor": 0,
  "metadata": {
    "colab": {
      "provenance": [],
      "authorship_tag": "ABX9TyMfT06pMusducyaRvr+ruJd",
      "include_colab_link": true
    },
    "kernelspec": {
      "name": "python3",
      "display_name": "Python 3"
    },
    "language_info": {
      "name": "python"
    }
  },
  "cells": [
    {
      "cell_type": "markdown",
      "metadata": {
        "id": "view-in-github",
        "colab_type": "text"
      },
      "source": [
        "<a href=\"https://colab.research.google.com/github/DigiClau/stablediffusion_webui/blob/main/DownloadCheckpointModelsToGDrive.ipynb\" target=\"_parent\"><img src=\"https://colab.research.google.com/assets/colab-badge.svg\" alt=\"Open In Colab\"/></a>"
      ]
    },
    {
      "cell_type": "code",
      "execution_count": null,
      "metadata": {
        "id": "fobwQlzUzhAB"
      },
      "outputs": [],
      "source": [
        "#@title <font size=\"6\" color=\"black\">Download Checkpoint models to GDrive\n",
        "# Import necessary modules\n",
        "import os\n",
        "\n",
        "# install arai2\n",
        "!apt-get -y install -qq aria2\n",
        "\n",
        "#@markdown ## 📍📍📍📍📍📍📍📍📍📍📍📍📍📍📍📍📍📍📍📍📍📍📍📍📍📍📍📍📍📍📍📍📍\n",
        "#@markdown ## <font color=\"red\">Set runtype to CPU only.\n",
        "#@markdown ## 🔩🔩🔩🔩🔩🔩🔩🔩🔩🔩🔩🔩🔩🔩🔩🔩🔩🔩🔩🔩🔩🔩🔩🔩🔩\n",
        "#@markdown ## Download SD model files.\n",
        "CheckpointModel_URL = '' #@param {type: \"string\"}\n",
        "\n",
        "#########################\n",
        "### Connect to GDrive ###\n",
        "#########################\n",
        "from google.colab import drive\n",
        "drive.mount('/content/drive')\n",
        "# Path to digiclau_lab\n",
        "path_to_digiclau_lab = '/content/drive/MyDrive/digiclau_lab'\n",
        "\n",
        "def downloadModel(url):\n",
        "  print('모델을 다운받으려고 합니다.')\n",
        "  if 'huggingface.co' in url:\n",
        "    filename = url.split('/')[-1]\n",
        "    !aria2c --console-log-level=error -c -x 16 -s 16 -k 1M {url}  -o {filename}\n",
        "  elif 'civitai.com' in url:\n",
        "    !aria2c --console-log-level=error -c -x 16 -s 16 -k 1M {url}\n",
        "  else:\n",
        "    print('잘못된 모델 URL입니다.')\n",
        "\n",
        "if CheckpointModel_URL:\n",
        "    for m in CheckpointModel_URL.split(','):\n",
        "      %cd {path_to_digiclau_lab}/checkpoints\n",
        "      downloadModel(m)\n",
        "\n",
        "\n"
      ]
    }
  ]
}