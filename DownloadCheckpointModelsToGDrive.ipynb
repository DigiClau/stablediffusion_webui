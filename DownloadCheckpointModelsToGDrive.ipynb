{
  "nbformat": 4,
  "nbformat_minor": 0,
  "metadata": {
    "colab": {
      "provenance": [],
      "authorship_tag": "ABX9TyMk8pFjGowZlPEX5+ktmjun",
      "include_colab_link": true
    },
    "kernelspec": {
      "name": "python3",
      "display_name": "Python 3"
    },
    "language_info": {
      "name": "python"
    }
  },
  "cells": [
    {
      "cell_type": "markdown",
      "metadata": {
        "id": "view-in-github",
        "colab_type": "text"
      },
      "source": [
        "<a href=\"https://colab.research.google.com/github/DigiClau/stablediffusion_webui/blob/main/DownloadCheckpointModelsToGDrive.ipynb\" target=\"_parent\"><img src=\"https://colab.research.google.com/assets/colab-badge.svg\" alt=\"Open In Colab\"/></a>"
      ]
    },
    {
      "cell_type": "code",
      "execution_count": null,
      "metadata": {
        "id": "fobwQlzUzhAB",
        "cellView": "form"
      },
      "outputs": [],
      "source": [
        "#@title <font size=\"6\" color=\"red\">File 다운로드 섹션</font>\n",
        "import os, subprocess, time, glob\n",
        "\n",
        "from google.colab import drive\n",
        "drive.mount('/content/drive')\n",
        "output_path = '/content/drive/MyDrive/digiclau_lab'\n",
        "\n",
        "!apt-get -y install -qq aria2\n",
        "\n",
        "#@markdown ##### 모델 링크 주소를 아래에 넣어주세요. 여러개 일때는 콤마(,)로 구분해주세요.\n",
        "#@markdown ##### (주의: Hugging Face 링크만 가능합니다.)\n",
        "Model_URL_Checkpoints = '' #@param {type: \"string\"}\n",
        "Model_URL_LoRAs = '' #@param {type: \"string\"}\n",
        "Model_URL_Temp = '' #@param {type: \"string\"}\n",
        "DisconnectAfterDownload = True  #@param {type:\"boolean\"}\n",
        "\n",
        "def print_message(msg):\n",
        "  print('📍📍📍📍📍📍📍📍📍📍📍📍📍📍📍📍📍📍📍📍📍📍📍📍📍📍📍📍📍📍📍📍📍📍📍📍📍📍📍📍📍')\n",
        "  print('📍📍📍 ', msg, ' 📍📍📍')\n",
        "  print('📍📍📍📍📍📍📍📍📍📍📍📍📍📍📍📍📍📍📍📍📍📍📍📍📍📍📍📍📍📍📍📍📍📍📍📍📍📍📍📍📍')\n",
        "\n",
        "def downloadModel(url):\n",
        "  if 'huggingface.co' in url:\n",
        "    filename = url.split('/')[-1]\n",
        "    filename = filename.removesuffix('?download=true')\n",
        "    !aria2c --console-log-level=error -c -x 16 -s 16 -k 1M {url}  -o {filename}\n",
        "  elif 'civitai.com' in url: # CivitAP는 더이상 사용 안합니다.\n",
        "    !aria2c --console-log-level=error -c -x 16 -s 16 -k 1M {url}\n",
        "  else: # 그 외의 파일\n",
        "    !aria2c --console-log-level=error -c -x 16 -s 16 -k 1M {url}\n",
        "\n",
        "if Model_URL_Checkpoints:\n",
        "    for m in Model_URL_Checkpoints.split(','):\n",
        "      %cd {output_path}/checkpoints\n",
        "      downloadModel(m)\n",
        "\n",
        "if Model_URL_LoRAs:\n",
        "    for m in Model_URL_LoRAs.split(','):\n",
        "      %cd {output_path}/Lora\n",
        "      downloadModel(m)\n",
        "\n",
        "if Model_URL_Temp:\n",
        "    for m in Model_URL_Temp.split(','):\n",
        "      %cd {output_path}/_temp_\n",
        "      downloadModel(m)\n",
        "\n",
        "# disconnect\n",
        "if DisconnectAfterDownload:\n",
        "    from google.colab import runtime\n",
        "    runtime.unassign()\n"
      ]
    }
  ]
}