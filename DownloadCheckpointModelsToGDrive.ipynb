{
  "nbformat": 4,
  "nbformat_minor": 0,
  "metadata": {
    "colab": {
      "provenance": [],
      "authorship_tag": "ABX9TyOh3ATOq4VPDueQDhnjdwqN",
      "include_colab_link": true
    },
    "kernelspec": {
      "name": "python3",
      "display_name": "Python 3"
    },
    "language_info": {
      "name": "python"
    }
  },
  "cells": [
    {
      "cell_type": "markdown",
      "metadata": {
        "id": "view-in-github",
        "colab_type": "text"
      },
      "source": [
        "<a href=\"https://colab.research.google.com/github/DigiClau/stablediffusion_webui/blob/main/DownloadCheckpointModelsToGDrive.ipynb\" target=\"_parent\"><img src=\"https://colab.research.google.com/assets/colab-badge.svg\" alt=\"Open In Colab\"/></a>"
      ]
    },
    {
      "cell_type": "code",
      "execution_count": null,
      "metadata": {
        "id": "fobwQlzUzhAB",
        "cellView": "form"
      },
      "outputs": [],
      "source": [
        "#@title <font size=\"6\" color=\"red\">File 다운로드 섹션</font>\n",
        "import os, subprocess, time, glob\n",
        "\n",
        "from google.colab import drive\n",
        "drive.mount('/content/drive')\n",
        "output_path = '/content/drive/MyDrive/digiclau_lab'\n",
        "\n",
        "!apt-get -y install -qq aria2\n",
        "\n",
        "#@markdown ##### 모델 링크 주소를 아래에 넣어주세요. 여러개 일때는 콤마(,)로 구분해주세요.\n",
        "#@markdown ##### (Hugging Face와 CivitAI만 가능합니다.)\n",
        "#@markdown ##### (주의: CivitAI 링크를 사용할경우, CivitAI API Key가 필요합니다. 아래의  Civitai_API_Key 에 넣어주세요. API Key는 본인의 [CivitAI 계정](https://civitai.com/user/account) 에서 만들 수 있습니다.)\n",
        "Civitai_API_Key = '' #@param {type: \"string\"}\n",
        "Model_URL_Checkpoints = '' #@param {type: \"string\"}\n",
        "Model_URL_LoRAs = '' #@param {type: \"string\"}\n",
        "Model_URL_Temp = '' #@param {type: \"string\"}\n",
        "DisconnectAfterDownload = True  #@param {type: \"boolean\"}\n",
        "\n",
        "def print_message(msg):\n",
        "  print('📍📍📍📍📍📍📍📍📍📍📍📍📍📍📍📍📍📍📍📍📍📍📍📍📍📍📍📍📍📍📍📍📍📍📍📍📍📍📍📍📍')\n",
        "  print('📍📍📍 ', msg, ' 📍📍📍')\n",
        "  print('📍📍📍📍📍📍📍📍📍📍📍📍📍📍📍📍📍📍📍📍📍📍📍📍📍📍📍📍📍📍📍📍📍📍📍📍📍📍📍📍📍')\n",
        "\n",
        "def downloadModel(url):\n",
        "  if 'huggingface.co' in url:\n",
        "    filename = url.split('/')[-1]\n",
        "    filename = filename.removesuffix('?download=true')\n",
        "    !aria2c --console-log-level=error -c -x 16 -s 16 -k 1M {url}  -o {filename}\n",
        "  elif 'civitai.com' in url:\n",
        "    !aria2c --console-log-level=error -c -x 16 -s 16 -k 1M {url}?token={Civitai_API_Key}\n",
        "  else: # 그 외의 파일\n",
        "    !aria2c --console-log-level=error -c -x 16 -s 16 -k 1M {url}\n",
        "\n",
        "if Model_URL_Checkpoints:\n",
        "    for m in Model_URL_Checkpoints.split(','):\n",
        "      %cd {output_path}/checkpoints\n",
        "      downloadModel(m)\n",
        "\n",
        "if Model_URL_LoRAs:\n",
        "    for m in Model_URL_LoRAs.split(','):\n",
        "      %cd {output_path}/Lora\n",
        "      downloadModel(m)\n",
        "\n",
        "if Model_URL_Temp:\n",
        "    for m in Model_URL_Temp.split(','):\n",
        "      %cd {output_path}/_temp_\n",
        "      downloadModel(m)\n",
        "\n",
        "# disconnect\n",
        "if DisconnectAfterDownload:\n",
        "  from google.colab import runtime\n",
        "  runtime.unassign()\n"
      ]
    }
  ]
}